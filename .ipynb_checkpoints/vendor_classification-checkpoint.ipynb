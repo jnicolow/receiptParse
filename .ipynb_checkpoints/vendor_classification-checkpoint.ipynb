{
 "cells": [
  {
   "cell_type": "code",
   "execution_count": 10,
   "id": "0b8dbbc7-3b6a-44cf-9e3e-7838fd89fd3c",
   "metadata": {},
   "outputs": [
    {
     "name": "stdout",
     "output_type": "stream",
     "text": [
      "Expecting value: line 1 column 1 (char 0)\n",
      "Model Accuracy: 0.5454545454545454\n",
      "Random Forest Model Accuracy: 0.5909090909090909\n"
     ]
    }
   ],
   "source": [
    "import json\n",
    "import os\n",
    "import pandas as pd\n",
    "from sklearn.feature_extraction.text import TfidfVectorizer\n",
    "from sklearn.neighbors import KNeighborsClassifier\n",
    "from sklearn.ensemble import RandomForestClassifier\n",
    "from sklearn.model_selection import train_test_split\n",
    "from sklearn.metrics import accuracy_score\n",
    "\n",
    "def try_read_file(file_path):\n",
    "    encodings = ['utf-8', 'latin-1', 'windows-1252']  # Add more if needed\n",
    "    for encoding in encodings:\n",
    "        try:\n",
    "            with open(file_path, 'r', encoding=encoding) as file:\n",
    "                return json.load(file)\n",
    "        except UnicodeDecodeError:\n",
    "            continue\n",
    "    raise ValueError(f\"File {file_path} has an unknown encoding.\")\n",
    "\n",
    "def json_to_string(data):\n",
    "    data_copy = data.copy()\n",
    "    data_copy['ReceiptInfo'].pop('merchantCategory', None)\n",
    "    return json.dumps(data_copy, sort_keys=True)\n",
    "\n",
    "# Path to the JSON files\n",
    "json_folder_path = 'data/receipts/json/prompt2'\n",
    "\n",
    "# Collect data for training\n",
    "data = {'json_string': [], 'category': []}\n",
    "\n",
    "# Iterate over JSON files\n",
    "for file_name in os.listdir(json_folder_path):\n",
    "    file_path = os.path.join(json_folder_path, file_name)\n",
    "    try:\n",
    "        data_json = try_read_file(file_path)\n",
    "    except ValueError as e:\n",
    "        print(e)\n",
    "        continue\n",
    "\n",
    "    merchant_category = data_json['ReceiptInfo'].get('merchantCategory')\n",
    "    \n",
    "    if not merchant_category:\n",
    "        continue\n",
    "\n",
    "    json_string = json_to_string(data_json)\n",
    "    data['json_string'].append(json_string)\n",
    "    data['category'].append(merchant_category)\n",
    "\n",
    "# Convert data to DataFrame\n",
    "df = pd.DataFrame(data)\n",
    "\n",
    "# TF-IDF Vectorization\n",
    "vectorizer = TfidfVectorizer(max_df=0.7, min_df=3, ngram_range=(1, 3), stop_words='english')\n",
    "X = vectorizer.fit_transform(df['json_string'])\n",
    "y = df['category']\n",
    "\n",
    "# Split the data\n",
    "X_train, X_test, y_train, y_test = train_test_split(X, y, test_size=0.2, random_state=42)\n",
    "\n",
    "rf_model = RandomForestClassifier(n_estimators=100, random_state=42)\n",
    "rf_model.fit(X_train, y_train)\n",
    "y_pred_rf = rf_model.predict(X_test)\n",
    "accuracy_rf = accuracy_score(y_test, y_pred_rf)\n",
    "print(f\"Random Forest Model Accuracy: {accuracy_rf}\")\n",
    "\n",
    "# # Predict and save results for all data\n",
    "# all_predictions = rf_model.predict(X)\n",
    "# results = pd.DataFrame({'Category': all_predictions, 'Vendor Name': df['json_string'], 'File Name': df.index})\n",
    "# results.sort_values(by=['Category', 'Vendor Name'], inplace=True)\n",
    "# results.to_csv('vendor_classification_results.csv', index=False)\n"
   ]
  },
  {
   "cell_type": "code",
   "execution_count": null,
   "id": "ebf353e5-03ad-4d5b-8e25-efcc0c8116c3",
   "metadata": {},
   "outputs": [],
   "source": []
  },
  {
   "cell_type": "code",
   "execution_count": null,
   "id": "d56dae87-088c-4f11-94c0-1e6786e357cd",
   "metadata": {},
   "outputs": [],
   "source": []
  }
 ],
 "metadata": {
  "kernelspec": {
   "display_name": "Python 3",
   "language": "python",
   "name": "python3"
  },
  "language_info": {
   "codemirror_mode": {
    "name": "ipython",
    "version": 3
   },
   "file_extension": ".py",
   "mimetype": "text/x-python",
   "name": "python",
   "nbconvert_exporter": "python",
   "pygments_lexer": "ipython3",
   "version": "3.8.8"
  }
 },
 "nbformat": 4,
 "nbformat_minor": 5
}
